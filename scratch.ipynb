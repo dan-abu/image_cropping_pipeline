{
 "cells": [
  {
   "cell_type": "code",
   "execution_count": 18,
   "metadata": {},
   "outputs": [],
   "source": [
    "#1.) Load image in the script\n",
    "# 2.) Randomly crop the image ensuring the samples don't overlap\n",
    "# 3.) Crop the image and show the user the samples\n",
    "# 4.) Allow the user to resize the cropped images and show the new images\n",
    "# 5.) Add error handling\n",
    "\n",
    "# Things to check once the script is ready:\n",
    "# a) Make sure there's error handling, especially for when the user tries to configure the sample size\n",
    "# b) Make sure there's room for other developers to add other transformations before or after the sampling"
   ]
  },
  {
   "cell_type": "code",
   "execution_count": 4,
   "metadata": {},
   "outputs": [
    {
     "name": "stdout",
     "output_type": "stream",
     "text": [
      "This programme will allow you to cut three random samples from an image.\n",
      "The image in question will appear in another application shortly.\n",
      "The image's details are as follows.\n",
      "Image format: JPEG.\n",
      "Image size: (1271, 847).\n"
     ]
    }
   ],
   "source": [
    "#1.) Load image in the script\n",
    "from PIL import Image\n",
    "\n",
    "print('This programme will allow you to cut three random samples from an image.\\nThe image in question will appear in another application shortly.')\n",
    "with Image.open('surgical_robot.jpeg') as im:\n",
    "    im.show()\n",
    "    print(f'The image\\'s details are as follows.\\nImage format: {im.format}.\\nImage size: {im.size}.')\n",
    "\n",
    "# region.show()\n",
    "\n",
    "# # im.show()\n",
    "\n",
    "# im.close()\n"
   ]
  },
  {
   "cell_type": "code",
   "execution_count": 67,
   "metadata": {},
   "outputs": [
    {
     "name": "stdout",
     "output_type": "stream",
     "text": [
      "0\n",
      "1\n",
      "[1045  652 1229  684]\n",
      "5888\n"
     ]
    }
   ],
   "source": [
    "import random\n",
    "import numpy as np\n",
    "\n",
    "def min_coord(a):\n",
    "    if a == 0:\n",
    "        numb = 1\n",
    "    else:\n",
    "        numb = a + 1\n",
    "    return numb\n",
    "\n",
    "def x_max_coord(a):\n",
    "    if a == 1272:\n",
    "        numb = 1271\n",
    "    else:\n",
    "        numb = 1272\n",
    "    return numb\n",
    "\n",
    "def y_max_coord(a):\n",
    "    if a == 848:\n",
    "        numb = 847\n",
    "    else:\n",
    "        numb = 848\n",
    "    return numb\n",
    "    #     num_list = range(1272)\n",
    "    #     num_list2 = [x != a for x in num_list]\n",
    "    #     numb = random.choice(num_list2)\n",
    "    # return numb\n",
    "\n",
    "# Calculating the area of the shape\n",
    "def calc_area(polygon):\n",
    "    if polygon[0] > polygon [2]:\n",
    "        width = polygon[0] - polygon[2]\n",
    "    else:\n",
    "        width = polygon[2] - polygon[0]\n",
    "    \n",
    "    if polygon[1] > polygon[3]:\n",
    "        length = polygon[1] - polygon[3]\n",
    "    else:\n",
    "        length = polygon[3] - polygon[1]\n",
    "    \n",
    "    area = width * length\n",
    "    return area\n",
    "\n",
    "space = 361000\n",
    "i = 0\n",
    "while space > 360000:\n",
    "    print(i)\n",
    "    shape = np.random.randint([0,0], [1272,848])\n",
    "    shape2 = np.random.randint([min_coord(shape[0]), min_coord(shape[1])], [x_max_coord(shape[0]), y_max_coord(shape[1])])\n",
    "    shape3 = np.append(shape, shape2)\n",
    "    space = int(calc_area(shape3))\n",
    "    i += 1\n",
    "    print(i)\n",
    "    print(shape3)\n",
    "    print(space)\n",
    "\n",
    "# Add logic to check that the cropped space's area is not greater than 360,000. In the interst of time, change the logic so that the first\n",
    "# coord is always smaller than the second axis pair."
   ]
  },
  {
   "cell_type": "code",
   "execution_count": 46,
   "metadata": {},
   "outputs": [
    {
     "name": "stdout",
     "output_type": "stream",
     "text": [
      "[[797 121 988 306]]\n",
      "1\n",
      "2\n",
      "[ 935  599 1225  676]\n",
      "22330\n"
     ]
    }
   ],
   "source": [
    "# Create code that then generates coords for the two other shapes and looks in the numpy matrix column to make sure it's not going in the\n",
    "# same place as previous entries.\n",
    "\n",
    "def other_x_min_coord(polygons):\n",
    "    x_coords = []\n",
    "\n",
    "    for polygon in polygons:\n",
    "        x_coords.append(polygon[0])\n",
    "        x_coords.append(polygon[2])\n",
    "\n",
    "    x_coords.sort()\n",
    "    return x_coords[0]\n",
    "\n",
    "def second_other_x_min_coord(polygons, x_coord):\n",
    "    x_coords = []\n",
    "    \n",
    "    x_coords.append(x_coord)\n",
    "\n",
    "    for polygon in polygons:\n",
    "        x_coords.append(polygon[0])\n",
    "        x_coords.append(polygon[2])\n",
    "\n",
    "    x_coords.sort()\n",
    "    return x_coords[0]\n",
    "\n",
    "def other_y_min_coord(polygons):\n",
    "    y_coords = []\n",
    "\n",
    "    for polygon in polygons:\n",
    "        y_coords.append(polygon[1])\n",
    "        y_coords.append(polygon[3])\n",
    "\n",
    "    y_coords.sort()\n",
    "    return y_coords[0]\n",
    "\n",
    "def second_other_y_min_coord(polygons, y_coord):\n",
    "    y_coords = []\n",
    "\n",
    "    y_coords.append(y_coord)\n",
    "\n",
    "    for polygon in polygons:\n",
    "        y_coords.append(polygon[1])\n",
    "        y_coords.append(polygon[3])\n",
    "\n",
    "    y_coords.sort()\n",
    "    return y_coords[0]\n",
    "\n",
    "def other_x_max_coord(polygons):\n",
    "    x_coords = []\n",
    "\n",
    "    for polygon in polygons:\n",
    "        x_coords.append(polygon[0])\n",
    "        x_coords.append(polygon[2])\n",
    "    \n",
    "    x_coords.sort()\n",
    "    if x_coords[0] != 1272:\n",
    "        x_max = 1272\n",
    "    else:\n",
    "        x_max = x_coords[0]\n",
    "\n",
    "    return x_max\n",
    "\n",
    "def second_other_x_max_coord(polygons, x_coord):\n",
    "    x_coords = []\n",
    "\n",
    "    x_coords.append(x_coord)\n",
    "\n",
    "    for polygon in polygons:\n",
    "        x_coords.append(polygon[0])\n",
    "        x_coords.append(polygon[2])\n",
    "    \n",
    "        x_coords.sort()\n",
    "        if x_coords[-1] != 1272:\n",
    "            x_max = 1272\n",
    "        else:\n",
    "            x_max = x_coords[-1]\n",
    "    return x_max\n",
    "\n",
    "def other_y_max_coord(polygons):\n",
    "    y_coords = []\n",
    "\n",
    "    for polygon in polygons:\n",
    "        y_coords.append(polygon[1])\n",
    "        y_coords.append(polygon[3])\n",
    "    \n",
    "    y_coords.sort()\n",
    "\n",
    "    if y_coords[-1] != 848:\n",
    "        y_max = 848\n",
    "    else:\n",
    "        y_max = y_coords[-1]\n",
    "\n",
    "    return y_max\n",
    "\n",
    "def second_other_y_max_coord(polygons, y_coord):\n",
    "    y_coords = []\n",
    "\n",
    "    y_coords.append(y_coord)\n",
    "\n",
    "    for polygon in polygons:\n",
    "        y_coords.append(polygon[1])\n",
    "        y_coords.append(polygon[3])\n",
    "    \n",
    "    y_coords.sort()\n",
    "\n",
    "    if y_coords[-1] != 848:\n",
    "        y_max = 848\n",
    "    else:\n",
    "        y_max = y_coords[-1]\n",
    "\n",
    "    return y_max\n",
    "\n",
    "shapes = np.array([shape3])\n",
    "\n",
    "print(shapes)\n",
    "\n",
    "space2 = 361000\n",
    "i = 0\n",
    "while space2 > 360000:\n",
    "    print(i)\n",
    "    shape4 = np.random.randint([other_x_min_coord(shapes), other_y_min_coord(shapes)], [other_x_max_coord(shapes),other_y_max_coord(shapes)])\n",
    "    shape5 = np.random.randint([second_other_x_min_coord(shapes, shape4[0]), second_other_y_min_coord(shapes, shape4[1])], [second_other_x_max_coord(shapes, shape4[0]), second_other_y_max_coord(shapes, shape4[1])])\n",
    "    shape6 = np.append(shape4, shape5)\n",
    "\n",
    "    space2 = int(calc_area(shape6))\n",
    "    i += 1\n",
    "    print(i)\n",
    "    print(shape6)\n",
    "    print(space2)\n",
    "\n",
    "\n"
   ]
  },
  {
   "cell_type": "code",
   "execution_count": 48,
   "metadata": {},
   "outputs": [
    {
     "name": "stdout",
     "output_type": "stream",
     "text": [
      "[[797 121 988 306]]\n",
      "[[ 797  121  988  306]\n",
      " [ 935  599 1225  676]]\n",
      "[ 935  599 1225  676]\n"
     ]
    }
   ],
   "source": [
    "print(shapes)\n",
    "shapes = np.concatenate((shapes, [shape6]))\n",
    "print(shapes)\n",
    "print(shape6)"
   ]
  },
  {
   "cell_type": "code",
   "execution_count": 54,
   "metadata": {},
   "outputs": [
    {
     "name": "stdout",
     "output_type": "stream",
     "text": [
      "[[1047  303  133  117]\n",
      " [ 408  780  737  773]]\n",
      "[[1047  303  133  117]\n",
      " [ 408  780  737  773]\n",
      " [ 633  155 1122  777]]\n"
     ]
    }
   ],
   "source": [
    "# Create a function that creates the first shape and then a function that creates the next two shapes.\n",
    "\n",
    "def first_shape():\n",
    "    space = 361000\n",
    "    while space > 360000:\n",
    "        shape = np.random.randint([0,0], [1272,848])\n",
    "        shape2 = np.random.randint([min_coord(shape[0]), min_coord(shape[1])], [x_max_coord(shape[0]), y_max_coord(shape[1])])\n",
    "        shape3 = np.append(shape, shape2)\n",
    "        space = int(calc_area(shape3))\n",
    "    \n",
    "    shape3 = np.array([shape3])\n",
    "    return shape3\n",
    "\n",
    "def other_shapes():\n",
    "    shapes = first_shape()\n",
    "\n",
    "    space2 = 361000\n",
    "    while space2 > 360000:\n",
    "        shape4 = np.random.randint([other_x_min_coord(shapes), other_y_min_coord(shapes)], [other_x_max_coord(shapes),other_y_max_coord(shapes)])\n",
    "        shape5 = np.random.randint([second_other_x_min_coord(shapes, shape4[0]), second_other_y_min_coord(shapes, shape4[1])], [second_other_x_max_coord(shapes, shape4[0]), second_other_y_max_coord(shapes, shape4[1])])\n",
    "        shape6 = np.append(shape4, shape5)\n",
    "        space2 = int(calc_area(shape6))\n",
    "    \n",
    "    shape6 = np.array([shape6])\n",
    "    return shape6\n",
    "\n",
    "\n",
    "shapes = np.concatenate((first_shape(), other_shapes()))\n",
    "print(shapes)\n",
    "shapes = np.concatenate((shapes, other_shapes()))\n",
    "print(shapes)\n",
    "\n"
   ]
  },
  {
   "cell_type": "code",
   "execution_count": null,
   "metadata": {},
   "outputs": [],
   "source": [
    "# Then use resize and input to allow the user to resize the image according to their taste. Research max pixel width and length on this\n",
    "# screen to add as a reference. Add error handling.\n",
    "\n",
    "# I will cap sizes at 2000 x 1500\n",
    "\n",
    "def crop_image(polygons):\n",
    "    with Image.open('surgical_robot.jpeg') as im:\n",
    "        for polygon in polygons:\n",
    "            box = tuple(polygon)\n",
    "            sample = im.crop(box)\n",
    "            sample.show()"
   ]
  },
  {
   "cell_type": "code",
   "execution_count": null,
   "metadata": {},
   "outputs": [],
   "source": [
    "def get_stuff(quantity):\n",
    "    for i in range(quantity):\n",
    "            x_axes = np.random.randint(1, 1270, size=(4,2))"
   ]
  },
  {
   "cell_type": "code",
   "execution_count": 68,
   "metadata": {},
   "outputs": [
    {
     "name": "stdout",
     "output_type": "stream",
     "text": [
      "[926 268]\n",
      "[[ 926  268 1175  827]]\n"
     ]
    }
   ],
   "source": [
    "def first_shape():\n",
    "    space = 361000\n",
    "    while space > 360000:\n",
    "        shape = np.random.randint([0,0], [1271,847])\n",
    "        print(shape)\n",
    "        shape2 = np.random.randint([min_coord(shape[0]), min_coord(shape[1])], [1272, 848])\n",
    "        shape3 = np.append(shape, shape2)\n",
    "        space = int(calc_area(shape3))\n",
    "    \n",
    "    shape3 = np.array([shape3])\n",
    "    return shape3\n",
    "\n",
    "print(first_shape())"
   ]
  },
  {
   "cell_type": "code",
   "execution_count": 70,
   "metadata": {},
   "outputs": [
    {
     "name": "stdout",
     "output_type": "stream",
     "text": [
      "{926, 927, 928, 929, 930, 931, 932, 933, 934, 935, 936, 937, 938, 939, 940, 941, 942, 943, 944, 945, 946, 947, 948, 949, 950, 951, 952, 953, 954, 955, 956, 957, 958, 959, 960, 961, 962, 963, 964, 965, 966, 967, 968, 969, 970, 971, 972, 973, 974, 975, 976, 977, 978, 979, 980, 981, 982, 983, 984, 985, 986, 987, 988, 989, 990, 991, 992, 993, 994, 995, 996, 997, 998, 999, 1000, 1001, 1002, 1003, 1004, 1005, 1006, 1007, 1008, 1009, 1010, 1011, 1012, 1013, 1014, 1015, 1016, 1017, 1018, 1019, 1020, 1021, 1022, 1023, 1024, 1025, 1026, 1027, 1028, 1029, 1030, 1031, 1032, 1033, 1034, 1035, 1036, 1037, 1038, 1039, 1040, 1041, 1042, 1043, 1044, 1045, 1046, 1047, 1048, 1049, 1050, 1051, 1052, 1053, 1054, 1055, 1056, 1057, 1058, 1059, 1060, 1061, 1062, 1063, 1064, 1065, 1066, 1067, 1068, 1069, 1070, 1071, 1072, 1073, 1074, 1075, 1076, 1077, 1078, 1079, 1080, 1081, 1082, 1083, 1084, 1085, 1086, 1087, 1088, 1089, 1090, 1091, 1092, 1093, 1094, 1095, 1096, 1097, 1098, 1099, 1100, 1101, 1102, 1103, 1104, 1105, 1106, 1107, 1108, 1109, 1110, 1111, 1112, 1113, 1114, 1115, 1116, 1117, 1118, 1119, 1120, 1121, 1122, 1123, 1124, 1125, 1126, 1127, 1128, 1129, 1130, 1131, 1132, 1133, 1134, 1135, 1136, 1137, 1138, 1139, 1140, 1141, 1142, 1143, 1144, 1145, 1146, 1147, 1148, 1149, 1150, 1151, 1152, 1153, 1154, 1155, 1156, 1157, 1158, 1159, 1160, 1161, 1162, 1163, 1164, 1165, 1166, 1167, 1168, 1169, 1170, 1171, 1172, 1173, 1174, 1175, 1176, 1177, 1178, 1179, 1180, 1181, 1182, 1183, 1184, 1185, 1186, 1187, 1188, 1189, 1190, 1191, 1192, 1193, 1194, 1195, 1196, 1197, 1198, 1199, 1200, 1201, 1202, 1203, 1204, 1205, 1206, 1207, 1208, 1209, 1210, 1211, 1212, 1213, 1214, 1215, 1216, 1217, 1218, 1219, 1220, 1221, 1222, 1223, 1224, 1225, 1226, 1227, 1228, 1229, 1230, 1231, 1232, 1233, 1234, 1235, 1236, 1237, 1238, 1239}\n"
     ]
    }
   ],
   "source": [
    "testing_ps = [[1051,55,1240,402], [926,268,1175,827]]\n",
    "missable_coords = []\n",
    "for polygon in polygons:\n",
    "    missable = range(polygon[0], polygon[2])\n",
    "    for num in missable:\n",
    "        missable_coords.append(num)\n",
    "missable_coords.sort()\n",
    "missable_coords = set(missable_coords)\n",
    "print(missable_coords)"
   ]
  },
  {
   "cell_type": "code",
   "execution_count": 73,
   "metadata": {},
   "outputs": [
    {
     "name": "stdout",
     "output_type": "stream",
     "text": [
      "[0, 1, 2, 3, 4, 5, 6, 7, 8, 9, 10, 11, 12, 13, 14, 15, 16, 17, 18, 19, 20, 21, 22, 23, 24, 25, 26, 27, 28, 29, 30, 31, 32, 33, 34, 35, 36, 37, 38, 39, 40, 41, 42, 43, 44, 45, 46, 47, 48, 49, 50, 51, 52, 53, 54, 55, 56, 57, 58, 59, 60, 61, 62, 63, 64, 65, 66, 67, 68, 69, 70, 71, 72, 73, 74, 75, 76, 77, 78, 79, 80, 81, 82, 83, 84, 85, 86, 87, 88, 89, 90, 91, 92, 93, 94, 95, 96, 97, 98, 99, 100, 101, 102, 103, 104, 105, 106, 107, 108, 109, 110, 111, 112, 113, 114, 115, 116, 117, 118, 119, 120, 121, 122, 123, 124, 125, 126, 127, 128, 129, 130, 131, 132, 133, 134, 135, 136, 137, 138, 139, 140, 141, 142, 143, 144, 145, 146, 147, 148, 149, 150, 151, 152, 153, 154, 155, 156, 157, 158, 159, 160, 161, 162, 163, 164, 165, 166, 167, 168, 169, 170, 171, 172, 173, 174, 175, 176, 177, 178, 179, 180, 181, 182, 183, 184, 185, 186, 187, 188, 189, 190, 191, 192, 193, 194, 195, 196, 197, 198, 199, 200, 201, 202, 203, 204, 205, 206, 207, 208, 209, 210, 211, 212, 213, 214, 215, 216, 217, 218, 219, 220, 221, 222, 223, 224, 225, 226, 227, 228, 229, 230, 231, 232, 233, 234, 235, 236, 237, 238, 239, 240, 241, 242, 243, 244, 245, 246, 247, 248, 249, 250, 251, 252, 253, 254, 255, 256, 257, 258, 259, 260, 261, 262, 263, 264, 265, 266, 267, 268, 269, 270, 271, 272, 273, 274, 275, 276, 277, 278, 279, 280, 281, 282, 283, 284, 285, 286, 287, 288, 289, 290, 291, 292, 293, 294, 295, 296, 297, 298, 299, 300, 301, 302, 303, 304, 305, 306, 307, 308, 309, 310, 311, 312, 313, 314, 315, 316, 317, 318, 319, 320, 321, 322, 323, 324, 325, 326, 327, 328, 329, 330, 331, 332, 333, 334, 335, 336, 337, 338, 339, 340, 341, 342, 343, 344, 345, 346, 347, 348, 349, 350, 351, 352, 353, 354, 355, 356, 357, 358, 359, 360, 361, 362, 363, 364, 365, 366, 367, 368, 369, 370, 371, 372, 373, 374, 375, 376, 377, 378, 379, 380, 381, 382, 383, 384, 385, 386, 387, 388, 389, 390, 391, 392, 393, 394, 395, 396, 397, 398, 399, 400, 401, 402, 403, 404, 405, 406, 407, 408, 409, 410, 411, 412, 413, 414, 415, 416, 417, 418, 419, 420, 421, 422, 423, 424, 425, 426, 427, 428, 429, 430, 431, 432, 433, 434, 435, 436, 437, 438, 439, 440, 441, 442, 443, 444, 445, 446, 447, 448, 449, 450, 451, 452, 453, 454, 455, 456, 457, 458, 459, 460, 461, 462, 463, 464, 465, 466, 467, 468, 469, 470, 471, 472, 473, 474, 475, 476, 477, 478, 479, 480, 481, 482, 483, 484, 485, 486, 487, 488, 489, 490, 491, 492, 493, 494, 495, 496, 497, 498, 499, 500, 501, 502, 503, 504, 505, 506, 507, 508, 509, 510, 511, 512, 513, 514, 515, 516, 517, 518, 519, 520, 521, 522, 523, 524, 525, 526, 527, 528, 529, 530, 531, 532, 533, 534, 535, 536, 537, 538, 539, 540, 541, 542, 543, 544, 545, 546, 547, 548, 549, 550, 551, 552, 553, 554, 555, 556, 557, 558, 559, 560, 561, 562, 563, 564, 565, 566, 567, 568, 569, 570, 571, 572, 573, 574, 575, 576, 577, 578, 579, 580, 581, 582, 583, 584, 585, 586, 587, 588, 589, 590, 591, 592, 593, 594, 595, 596, 597, 598, 599, 600, 601, 602, 603, 604, 605, 606, 607, 608, 609, 610, 611, 612, 613, 614, 615, 616, 617, 618, 619, 620, 621, 622, 623, 624, 625, 626, 627, 628, 629, 630, 631, 632, 633, 634, 635, 636, 637, 638, 639, 640, 641, 642, 643, 644, 645, 646, 647, 648, 649, 650, 651, 652, 653, 654, 655, 656, 657, 658, 659, 660, 661, 662, 663, 664, 665, 666, 667, 668, 669, 670, 671, 672, 673, 674, 675, 676, 677, 678, 679, 680, 681, 682, 683, 684, 685, 686, 687, 688, 689, 690, 691, 692, 693, 694, 695, 696, 697, 698, 699, 700, 701, 702, 703, 704, 705, 706, 707, 708, 709, 710, 711, 712, 713, 714, 715, 716, 717, 718, 719, 720, 721, 722, 723, 724, 725, 726, 727, 728, 729, 730, 731, 732, 733, 734, 735, 736, 737, 738, 739, 740, 741, 742, 743, 744, 745, 746, 747, 748, 749, 750, 751, 752, 753, 754, 755, 756, 757, 758, 759, 760, 761, 762, 763, 764, 765, 766, 767, 768, 769, 770, 771, 772, 773, 774, 775, 776, 777, 778, 779, 780, 781, 782, 783, 784, 785, 786, 787, 788, 789, 790, 791, 792, 793, 794, 795, 796, 797, 798, 799, 800, 801, 802, 803, 804, 805, 806, 807, 808, 809, 810, 811, 812, 813, 814, 815, 816, 817, 818, 819, 820, 821, 822, 823, 824, 825, 826, 827, 828, 829, 830, 831, 832, 833, 834, 835, 836, 837, 838, 839, 840, 841, 842, 843, 844, 845, 846, 847, 848, 849, 850, 851, 852, 853, 854, 855, 856, 857, 858, 859, 860, 861, 862, 863, 864, 865, 866, 867, 868, 869, 870, 871, 872, 873, 874, 875, 876, 877, 878, 879, 880, 881, 882, 883, 884, 885, 886, 887, 888, 889, 890, 891, 892, 893, 894, 895, 896, 897, 898, 899, 900, 901, 902, 903, 904, 905, 906, 907, 908, 909, 910, 911, 912, 913, 914, 915, 916, 917, 918, 919, 920, 921, 922, 923, 924, 925, 1240, 1241, 1242, 1243, 1244, 1245, 1246, 1247, 1248, 1249, 1250, 1251, 1252, 1253, 1254, 1255, 1256, 1257, 1258, 1259, 1260, 1261, 1262, 1263, 1264, 1265, 1266, 1267, 1268, 1269, 1270, 1271]\n"
     ]
    }
   ],
   "source": [
    "a = range(1272)\n",
    "a[-1]\n",
    "others = []\n",
    "for num in a:\n",
    "    if num in missable_coords:\n",
    "        pass\n",
    "    else:\n",
    "        others.append(num)\n",
    "\n",
    "print(others)"
   ]
  },
  {
   "cell_type": "code",
   "execution_count": 74,
   "metadata": {},
   "outputs": [
    {
     "name": "stdout",
     "output_type": "stream",
     "text": [
      "320 427\n"
     ]
    }
   ],
   "source": [
    "def other_x_min_coord(polygons):\n",
    "    missable_coords = []\n",
    "    for polygon in polygons:\n",
    "        missable = range(polygon[0], polygon[2])\n",
    "        for num in missable:\n",
    "            missable_coords.append(num)\n",
    "    missable_coords.sort()\n",
    "    missable_coords = set(missable_coords)\n",
    "    a = range(1272)\n",
    "    others = []\n",
    "    for num in a:\n",
    "        if num in missable_coords:\n",
    "            pass\n",
    "        else:\n",
    "            others.append(num)\n",
    "    return others\n",
    "\n",
    "def other_y_min_coord(polygons):\n",
    "    missable_coords = []\n",
    "    for polygon in polygons:\n",
    "        missable = range(polygon[0], polygon[2])\n",
    "        for num in missable:\n",
    "            missable_coords.append(num)\n",
    "    missable_coords.sort()\n",
    "    missable_coords = set(missable_coords)\n",
    "    a = range(848)\n",
    "    others = []\n",
    "    for num in a:\n",
    "        if num in missable_coords:\n",
    "            pass\n",
    "        else:\n",
    "            others.append(num)\n",
    "    return others"
   ]
  },
  {
   "cell_type": "code",
   "execution_count": 79,
   "metadata": {},
   "outputs": [],
   "source": [
    "def other_x_max_coord(polygons, x_coord):\n",
    "    x_coords = []\n",
    "\n",
    "    for polygon in polygons:\n",
    "        x_coords.append(polygon[0])\n",
    "        x_coords.append(polygon[2])\n",
    "    \n",
    "    x_coords.append(x_coord)\n",
    "    x_coords.sort()\n",
    "\n",
    "    if x_coord == x_coords[-1]:\n",
    "        x_max_coord = x_coord\n",
    "    else:\n",
    "        x_max_coord = x_coords[x_coords.index(x_coord) + 1]\n",
    "    \n",
    "    width = np.random.randint(x_coord, x_max_coord+1)\n",
    "\n",
    "    return width\n",
    "\n",
    "def other_y_max_coord(polygons, y_coord):\n",
    "    y_coords = []\n",
    "\n",
    "    for polygon in polygons:\n",
    "        y_coords.append(polygon[0])\n",
    "        y_coords.append(polygon[2])\n",
    "    \n",
    "    y_coords.append(y_coord)\n",
    "    y_coords.sort()\n",
    "\n",
    "    if y_coord == y_coords[-1]:\n",
    "        y_max_coord = y_coord\n",
    "    else:\n",
    "        y_max_coord = y_coords[y_coords.index(y_coord) + 1]\n",
    "    \n",
    "    height = np.random.randint(y_coord, y_max_coord+1)\n",
    "\n",
    "    return height"
   ]
  },
  {
   "cell_type": "code",
   "execution_count": 85,
   "metadata": {},
   "outputs": [
    {
     "name": "stdout",
     "output_type": "stream",
     "text": [
      "[ 63 364 551 909]\n"
     ]
    }
   ],
   "source": [
    "testing_ps = [[1051,55,1240,402], [926,268,1175,827]]\n",
    "left = np.random.choice(other_x_min_coord())\n",
    "top = np.random.choice(other_y_min_coord(testing_ps))\n",
    "width = other_x_max_coord(testing_ps, testing)\n",
    "height = other_y_max_coord(testing_ps, testing2)\n",
    "\n",
    "new_shape = np.array([left,top,width,height])\n",
    "\n",
    "print(new_shape)"
   ]
  },
  {
   "cell_type": "code",
   "execution_count": 2,
   "metadata": {},
   "outputs": [
    {
     "name": "stdout",
     "output_type": "stream",
     "text": [
      "This programme needs you to specify the size of the image samples.\n",
      "You will need to provide a four-tuple to do this.\n",
      "Please keep in mind the size of the image and that the programme uses a coordinate system with (0, 0) in the upper left corner.\n",
      "An image demonstrating how your four-tuple will crop the image will be displayed in another application shortly.\n",
      "Kindly enter four numbers separated by commas and four numbers separated by commas only.\n",
      "Kindly enter four numbers separated by commas and four numbers separated by commas only.\n"
     ]
    },
    {
     "data": {
      "text/plain": [
       "array(['100', '100', '400', '400'], dtype='<U3')"
      ]
     },
     "execution_count": 2,
     "metadata": {},
     "output_type": "execute_result"
    }
   ],
   "source": [
    "# 2.) Ask user for the size of each sample they want\n",
    "from PIL import Image\n",
    "import numpy as np\n",
    "\n",
    "print('This programme needs you to specify the size of the image samples.\\nYou will need to provide a four-tuple to do this.')\n",
    "print('Please keep in mind the size of the image and that the programme uses a coordinate system with (0, 0) in the upper left corner.')\n",
    "print('An image demonstrating how your four-tuple will crop the image will be displayed in another application shortly.')\n",
    "with Image.open('pillow_coordinate_crop.jpg') as coords_im:\n",
    "    # coords_im.show()\n",
    "    coords_im.size\n",
    "\n",
    "# Get the user to enter their co-ords in the format 1,2,3,4. Then split by comma and put into a tuple.\n",
    "# To ensure no overlapping, do the following: start testing with 2 samples; create a matrix and check the relationship between\n",
    "# relevant columns and throw an error message when needed; add a third sample and repeat; add a fourth sample and repeat.\n",
    "def get_first_sample_size(coord_sets):\n",
    "    tries = 3\n",
    "    sample = ''\n",
    "    dig_check = ''\n",
    "    for i in range(tries):\n",
    "        try:\n",
    "            sample = input('Kindly enter the size of your sample in the format 0,0,0,0: ')\n",
    "            sample = sample.split(',')\n",
    "            sample = np.array([sample])\n",
    "            dig_check = ''.join(sample)\n",
    "            if len(sample) != coord_sets:\n",
    "                raise IndexError('Kindly enter four numbers separated by commas and four numbers separated by commas only.')\n",
    "            if dig_check.isdigit() is False or not dig_check:\n",
    "                raise ValueError('Kindly enter four numbers separated by commas and four numbers separated by commas only.')\n",
    "            else:\n",
    "                break\n",
    "        except IndexError as e:\n",
    "            print(e)\n",
    "            if i < tries - 1:\n",
    "                continue\n",
    "            else:\n",
    "                break\n",
    "        except ValueError as e2:\n",
    "            print(e2)\n",
    "            if i < tries - 1:\n",
    "                continue\n",
    "            else:\n",
    "                break\n",
    "    return sample\n",
    "\n",
    "get_first_sample_size(4)"
   ]
  },
  {
   "cell_type": "code",
   "execution_count": null,
   "metadata": {},
   "outputs": [],
   "source": [
    "import numpy as np\n",
    "# Use numpy to create a matrix above this line.\n",
    "# Change the function below so that it doesn't overlap the shapes earlier on in the matrix\n",
    "# (e.g. the first coordinate must be smaller than the first coordinate in the previous row and greater than the third coordinate\n",
    "# in the previous row).\n",
    "\n",
    "def get_other_sample_sizes(coord_sets, coords):\n",
    "    tries = 3\n",
    "    sample2 = ''\n",
    "    dig_check = ''\n",
    "    for i in range(tries):\n",
    "        try:\n",
    "            sample2 = input('Kindly enter the size of your next sample in the format 0,0,0,0: ')\n",
    "            sample2 = sample2.split(',')\n",
    "            sample2 = np.array([sample2])\n",
    "            shape_list = np.append(coords, sample2, axis=0)\n",
    "            dig_check = ''.join(sample2)\n",
    "            if len(sample2) != coord_sets:\n",
    "                raise IndexError('Kindly enter four numbers separated by commas and four numbers separated by commas only.')\n",
    "            if dig_check.isdigit() is False or not dig_check:\n",
    "                raise ValueError('Kindly enter four numbers separated by commas and four numbers separated by commas only.')\n",
    "            else:\n",
    "                break\n",
    "        except IndexError as e:\n",
    "            print(e)\n",
    "            if i < tries - 1:\n",
    "                continue\n",
    "            else:\n",
    "                break\n",
    "        except ValueError as e2:\n",
    "            print(e2)\n",
    "            if i < tries - 1:\n",
    "                continue\n",
    "            else:\n",
    "                break\n",
    "    return sample2\n",
    "\n",
    "get_other_sample_sizes(4, get_first_sample_size(4))\n",
    "# print(sample1, sample2, s1_dig_check, s2_dig_check)\n",
    "# region = im.crop(box)"
   ]
  },
  {
   "cell_type": "code",
   "execution_count": 9,
   "metadata": {},
   "outputs": [
    {
     "name": "stdout",
     "output_type": "stream",
     "text": [
      "<class 'tuple'>\n"
     ]
    }
   ],
   "source": [
    "import sys\n",
    "\n",
    "def resize_request():\n",
    "    decision = input('Do you want to resize the cropped image? (Y/N): ')\n",
    "    if decision == 'Y':\n",
    "        goal = 2\n",
    "        retries = 3\n",
    "\n",
    "        for i in range(retries):\n",
    "            try:\n",
    "                new_size = input('Maximum size is 2000 x 1500. Kindly enter the size you want the cropped image in the format 0,0: ')\n",
    "                sizes = []\n",
    "                new_size = new_size.split(',')\n",
    "                dig_check = ''.join(new_size)\n",
    "                for num in new_size:\n",
    "                    sizes.append(int(num))\n",
    "                sizes = tuple(sizes)\n",
    "                if len(new_size) != goal:\n",
    "                    raise IndexError('Kindly enter two numbers (first up to 2000 and second up to 1500) separated by commas and two numbers separated by commas only.')\n",
    "                if dig_check.isdigit() is False or not dig_check:\n",
    "                    raise ValueError('Kindly enter four numbers separated by commas and four numbers separated by commas only.')\n",
    "                else:\n",
    "                    break\n",
    "            except IndexError as e:\n",
    "                print(e)\n",
    "                if i < retries - 1:\n",
    "                    continue\n",
    "                else:\n",
    "                    print('Restart this programme and follow the instructions more carefully when you re-run it.')\n",
    "                    sys.exit()\n",
    "            except ValueError as e2:\n",
    "                print(e2)\n",
    "                if i < retries - 1:\n",
    "                    continue\n",
    "                else:\n",
    "                    print('Restart this programme and follow the instructions more carefully when you re-run it.')\n",
    "                    sys.exit()\n",
    "        \n",
    "        return sizes\n",
    "    else:\n",
    "        print('Cropped image will not be resized')\n",
    "\n",
    "gf = resize_request()\n",
    "print(type(gf))"
   ]
  }
 ],
 "metadata": {
  "kernelspec": {
   "display_name": "Medtronic Digital Technologies",
   "language": "python",
   "name": "python3"
  },
  "language_info": {
   "codemirror_mode": {
    "name": "ipython",
    "version": 3
   },
   "file_extension": ".py",
   "mimetype": "text/x-python",
   "name": "python",
   "nbconvert_exporter": "python",
   "pygments_lexer": "ipython3",
   "version": "3.9.12"
  }
 },
 "nbformat": 4,
 "nbformat_minor": 2
}
